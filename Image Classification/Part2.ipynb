{
  "nbformat": 4,
  "nbformat_minor": 0,
  "metadata": {
    "colab": {
      "provenance": []
    },
    "kernelspec": {
      "name": "python3",
      "display_name": "Python 3"
    },
    "language_info": {
      "name": "python"
    },
    "gpuClass": "standard",
    "accelerator": "GPU"
  },
  "cells": [
    {
      "cell_type": "code",
      "execution_count": 1,
      "metadata": {
        "colab": {
          "base_uri": "https://localhost:8080/"
        },
        "id": "FWD3_oKySa6r",
        "outputId": "f7d5a274-e625-4808-c2fb-4fc2c745da04"
      },
      "outputs": [
        {
          "output_type": "stream",
          "name": "stdout",
          "text": [
            "Mounted at /content/drive\n"
          ]
        }
      ],
      "source": [
        "from google.colab import drive\n",
        "drive.mount('/content/drive')"
      ]
    },
    {
      "cell_type": "code",
      "source": [
        "%matplotlib inline\n"
      ],
      "metadata": {
        "id": "XpZib7xnTVHa"
      },
      "execution_count": 2,
      "outputs": []
    },
    {
      "cell_type": "code",
      "source": [
        "from __future__ import print_function, division\n",
        "\n",
        "import torch\n",
        "import torch.nn as nn\n",
        "import torch.optim as optim\n",
        "from torch.optim import lr_scheduler\n",
        "import torch.backends.cudnn as cudnn\n",
        "import numpy as np\n",
        "import torchvision\n",
        "from torchvision import datasets, models, transforms\n",
        "from torch.utils.data import Dataset\n",
        "import matplotlib.pyplot as plt\n",
        "import time\n",
        "import os\n",
        "import copy\n",
        "\n",
        "cudnn.benchmark = True\n",
        "plt.ion()   # interactive mode"
      ],
      "metadata": {
        "id": "n_9_REKQTV3e"
      },
      "execution_count": 3,
      "outputs": []
    },
    {
      "cell_type": "code",
      "source": [
        "# Data augmentation and normalization for training\n",
        "# Just normalization for validation\n",
        "data_transforms = {\n",
        "    'train': transforms.Compose([\n",
        "       transforms.RandomResizedCrop(224),\n",
        "       transforms.RandomHorizontalFlip(),\n",
        "        transforms.ToTensor(),\n",
        "        transforms.Normalize([0.485, 0.456, 0.406], [0.229, 0.224, 0.225])\n",
        "    ]),\n",
        "    'test': transforms.Compose([\n",
        "        transforms.Resize(224),\n",
        "        transforms.CenterCrop(224),\n",
        "        transforms.ToTensor(),\n",
        "        transforms.Normalize([0.485, 0.456, 0.406], [0.229, 0.224, 0.225])\n",
        "    ]),\n",
        "}\n"
      ],
      "metadata": {
        "id": "0zk1be9tU8nW"
      },
      "execution_count": 4,
      "outputs": []
    },
    {
      "cell_type": "code",
      "source": [
        "num_epochs = 10\n",
        "num_classes = 6\n",
        "batch_size = 128\n",
        "learning_rate = 0.001"
      ],
      "metadata": {
        "id": "OVxeCLxyblwU"
      },
      "execution_count": 5,
      "outputs": []
    },
    {
      "cell_type": "code",
      "source": [
        " data_dir = '/content/drive/MyDrive/classification_dataset'\n",
        "\n",
        "\n",
        "image_datasets = {x: datasets.ImageFolder(os.path.join(data_dir, x),data_transforms[x]) for x in ['train']}\n",
        "\n",
        "dataloaders =  {x: torch.utils.data.DataLoader(image_datasets[x], batch_size=batch_size, shuffle=True, num_workers=2) for x in ['train']}\n",
        "\n",
        "dataset_sizes = {x: len(image_datasets[x]) for x in ['train']}\n",
        "\n",
        "class_names = image_datasets['train'].classes\n",
        "\n",
        "print(dataset_sizes)\n",
        "print(class_names)\n",
        "\n",
        "\n",
        "image_testsets = {x: datasets.ImageFolder(os.path.join(data_dir, x), data_transforms[x]) for x in ['test']}\n",
        "testloaders = {x: torch.utils.data.DataLoader(image_testsets[x], batch_size=batch_size, shuffle=True, num_workers=2) for x in ['test']}\n"
      ],
      "metadata": {
        "colab": {
          "base_uri": "https://localhost:8080/"
        },
        "id": "TIl0uT6BWDNc",
        "outputId": "b802cc6b-aaf5-40df-f353-c0ac7a4dfb53"
      },
      "execution_count": 6,
      "outputs": [
        {
          "output_type": "stream",
          "name": "stdout",
          "text": [
            "{'train': 543}\n",
            "['bear', 'butterfly', 'camel', 'chimp', 'duck', 'elephant']\n"
          ]
        }
      ]
    },
    {
      "cell_type": "code",
      "source": [
        "torch.cuda.is_available()"
      ],
      "metadata": {
        "colab": {
          "base_uri": "https://localhost:8080/"
        },
        "id": "86Ifpa89ZIeN",
        "outputId": "af46cd6e-6f4d-42fc-93aa-167c4de995e0"
      },
      "execution_count": 7,
      "outputs": [
        {
          "output_type": "execute_result",
          "data": {
            "text/plain": [
              "True"
            ]
          },
          "metadata": {},
          "execution_count": 7
        }
      ]
    },
    {
      "cell_type": "code",
      "source": [
        "\n",
        "\n",
        "device = torch.device(\"cuda:0\" if torch.cuda.is_available() else \"cpu\")"
      ],
      "metadata": {
        "id": "QTtEIdNCaphA"
      },
      "execution_count": 8,
      "outputs": []
    },
    {
      "cell_type": "code",
      "source": [
        "class ConvNet(nn.Module):\n",
        "  def __init__(self, num_classes=6):\n",
        "      super(ConvNet, self).__init__()\n",
        "      self.layer1 = nn.Sequential(\n",
        "          nn.Conv2d(3, 16, kernel_size=5, stride=1, padding=2),\n",
        "          nn.BatchNorm2d(16),\n",
        "          nn.ReLU(),\n",
        "          nn.MaxPool2d(kernel_size=2, stride=2))\n",
        "      self.layer2 = nn.Sequential(\n",
        "          nn.Conv2d(16, 32, kernel_size=5, stride=1, padding=2),\n",
        "          nn.BatchNorm2d(32),\n",
        "          nn.ReLU(),\n",
        "          nn.MaxPool2d(kernel_size=2, stride=2))\n",
        "      self.layer3 = nn.Sequential(\n",
        "          nn.Conv2d(32, 64, kernel_size=5, stride=1, padding=2),\n",
        "          nn.BatchNorm2d(64),\n",
        "          nn.ReLU(),\n",
        "          nn.MaxPool2d(kernel_size=2, stride=2))\n",
        "      self.layer4 = nn.Sequential(\n",
        "          nn.Conv2d(64, 128, kernel_size=5, stride=1, padding=2),\n",
        "          nn.BatchNorm2d(128),\n",
        "          nn.ReLU(),\n",
        "          nn.MaxPool2d(kernel_size=2, stride=2))\n",
        "      self.layer5 = nn.Sequential(\n",
        "          nn.Conv2d(128, 256, kernel_size=5, stride=1, padding=2),\n",
        "          nn.BatchNorm2d(256),\n",
        "          nn.ReLU(),\n",
        "          nn.MaxPool2d(kernel_size=2, stride=2))\n",
        "      self.fc = nn.Linear(7*7*256, num_classes)\n",
        "    \n",
        "      \n",
        "  def forward(self, x):\n",
        "      out = self.layer1(x)\n",
        "      out = self.layer2(out)\n",
        "      out = self.layer3(out)\n",
        "      out = self.layer4(out)\n",
        "      out = self.layer5(out)\n",
        "      out = out.reshape(out.size(0), -1)\n",
        "\n",
        "      out = self.fc(out)\n",
        "    \n",
        "      return out\n",
        "\n",
        "model = ConvNet(num_classes).to(device)"
      ],
      "metadata": {
        "id": "GqyAn26BZpgs"
      },
      "execution_count": 14,
      "outputs": []
    },
    {
      "cell_type": "code",
      "source": [
        "criterion = nn.CrossEntropyLoss()\n",
        "optimizer = torch.optim.Adam(model.parameters(), lr=learning_rate)"
      ],
      "metadata": {
        "id": "kyDJlVg3hEcH"
      },
      "execution_count": 15,
      "outputs": []
    },
    {
      "cell_type": "code",
      "source": [
        "total_step = len(dataloaders)\n",
        "for epoch in range(num_epochs):\n",
        "    for i,(images, classes) in enumerate(dataloaders['train']):\n",
        "        images = images.to(device)\n",
        "        labels = classes.to(device)\n",
        "        \n",
        "        # Forward pass\n",
        "        outputs = model(images)\n",
        "        loss = criterion(outputs, labels)\n",
        "        \n",
        "        # Backward and optimize\n",
        "        optimizer.zero_grad() #sets dL/dw =0 \n",
        "        loss.backward()       # computes dL/dw\n",
        "        optimizer.step()      # w = w - lr*dL/dw\n",
        "        \n",
        "        if (i+1) % 100 == 0:\n",
        "            print ('Epoch [{}/{}], Step [{}/{}], Loss: {:.4f}' \n",
        "                   .format(epoch+1, num_epochs, i+1, total_step, loss.item()))"
      ],
      "metadata": {
        "id": "qP0Q_GjGhd4n"
      },
      "execution_count": 24,
      "outputs": []
    },
    {
      "cell_type": "code",
      "source": [
        "model.eval()  # eval mode (batchnorm uses moving mean/variance instead of mini-batch mean/variance)\n",
        "with torch.no_grad():\n",
        "    correct = 0\n",
        "    total = 0\n",
        "    for images, classes in testloaders['test']:\n",
        "        images = images.to(device)\n",
        "        labels = classes.to(device)\n",
        "        outputs = model(images)\n",
        "        _, predicted = torch.max(outputs.data, 1)\n",
        "        total += labels.size(0)\n",
        "        correct += (predicted == labels).sum().item()\n",
        "\n",
        "    print('Test Accuracy of the model on the test images: {} %'.format(100 * correct / total))\n",
        "\n",
        "# Save the model checkpoint\n",
        "torch.save(model.state_dict(), 'model.ckpt')\n",
        "predicted = predicted.cpu().numpy()\n",
        "labels = labels.cpu().numpy()\n",
        "\n",
        "from sklearn import metrics\n",
        "print(metrics.classification_report(labels,predicted))"
      ],
      "metadata": {
        "id": "8yG_HvURhn9a",
        "colab": {
          "base_uri": "https://localhost:8080/"
        },
        "outputId": "bc3b4d32-7ce0-4dd4-dd3e-ceecd6512482"
      },
      "execution_count": 26,
      "outputs": [
        {
          "output_type": "stream",
          "name": "stdout",
          "text": [
            "Test Accuracy of the model on the test images: 52.5 %\n",
            "              precision    recall  f1-score   support\n",
            "\n",
            "           0       0.33      0.30      0.32        20\n",
            "           1       0.52      0.75      0.61        20\n",
            "           2       0.50      0.85      0.63        20\n",
            "           3       0.59      0.65      0.62        20\n",
            "           4       0.71      0.25      0.37        20\n",
            "           5       0.70      0.35      0.47        20\n",
            "\n",
            "    accuracy                           0.53       120\n",
            "   macro avg       0.56      0.53      0.50       120\n",
            "weighted avg       0.56      0.53      0.50       120\n",
            "\n"
          ]
        }
      ]
    },
    {
      "cell_type": "code",
      "source": [],
      "metadata": {
        "id": "nz6cg1E72PkX"
      },
      "execution_count": 12,
      "outputs": []
    },
    {
      "cell_type": "code",
      "source": [],
      "metadata": {
        "id": "0sQpGAsA8Azu"
      },
      "execution_count": 12,
      "outputs": []
    }
  ]
}